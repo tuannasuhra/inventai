{
 "cells": [
  {
   "cell_type": "code",
   "execution_count": null,
   "metadata": {},
   "outputs": [],
   "source": []
  },
  {
   "cell_type": "code",
   "execution_count": 1,
   "metadata": {},
   "outputs": [
    {
     "name": "stdout",
     "output_type": "stream",
     "text": [
      "[Errno 2] No such file or directory: 'Users/tuannaorhaner/Desktop'\n",
      "/Users/tuannaorhaner/Desktop\n"
     ]
    }
   ],
   "source": [
    "cd Users/tuannaorhaner/Desktop"
   ]
  },
  {
   "cell_type": "code",
   "execution_count": 2,
   "metadata": {},
   "outputs": [],
   "source": [
    "import pandas as pd"
   ]
  },
  {
   "cell_type": "code",
   "execution_count": 76,
   "metadata": {},
   "outputs": [],
   "source": [
    "data_a = pd.read_csv('assignment4.1a.csv', parse_dates=['Date'])\n",
    "data_b = pd.read_csv('assignment4.1b.csv')\n",
    "data_c = pd.read_csv('assignment4.1c.csv')\n",
    "data_p = pd.read_csv('PromotionDates.csv')"
   ]
  },
  {
   "cell_type": "code",
   "execution_count": 77,
   "metadata": {},
   "outputs": [
    {
     "data": {
      "text/html": [
       "<div>\n",
       "<style scoped>\n",
       "    .dataframe tbody tr th:only-of-type {\n",
       "        vertical-align: middle;\n",
       "    }\n",
       "\n",
       "    .dataframe tbody tr th {\n",
       "        vertical-align: top;\n",
       "    }\n",
       "\n",
       "    .dataframe thead th {\n",
       "        text-align: right;\n",
       "    }\n",
       "</style>\n",
       "<table border=\"1\" class=\"dataframe\">\n",
       "  <thead>\n",
       "    <tr style=\"text-align: right;\">\n",
       "      <th></th>\n",
       "      <th>Date</th>\n",
       "      <th>StoreCode</th>\n",
       "      <th>ProductCode</th>\n",
       "      <th>SalesQuantity</th>\n",
       "    </tr>\n",
       "  </thead>\n",
       "  <tbody>\n",
       "    <tr>\n",
       "      <th>0</th>\n",
       "      <td>2015-01-01</td>\n",
       "      <td>8</td>\n",
       "      <td>9</td>\n",
       "      <td>-1</td>\n",
       "    </tr>\n",
       "    <tr>\n",
       "      <th>1</th>\n",
       "      <td>2015-01-01</td>\n",
       "      <td>131</td>\n",
       "      <td>9</td>\n",
       "      <td>1</td>\n",
       "    </tr>\n",
       "    <tr>\n",
       "      <th>2</th>\n",
       "      <td>2015-01-01</td>\n",
       "      <td>144</td>\n",
       "      <td>9</td>\n",
       "      <td>2</td>\n",
       "    </tr>\n",
       "    <tr>\n",
       "      <th>3</th>\n",
       "      <td>2015-01-01</td>\n",
       "      <td>203</td>\n",
       "      <td>9</td>\n",
       "      <td>2</td>\n",
       "    </tr>\n",
       "    <tr>\n",
       "      <th>4</th>\n",
       "      <td>2015-01-01</td>\n",
       "      <td>256</td>\n",
       "      <td>9</td>\n",
       "      <td>0</td>\n",
       "    </tr>\n",
       "    <tr>\n",
       "      <th>...</th>\n",
       "      <td>...</td>\n",
       "      <td>...</td>\n",
       "      <td>...</td>\n",
       "      <td>...</td>\n",
       "    </tr>\n",
       "    <tr>\n",
       "      <th>1873613</th>\n",
       "      <td>2015-07-30</td>\n",
       "      <td>292</td>\n",
       "      <td>315</td>\n",
       "      <td>0</td>\n",
       "    </tr>\n",
       "    <tr>\n",
       "      <th>1873614</th>\n",
       "      <td>2015-07-31</td>\n",
       "      <td>12</td>\n",
       "      <td>315</td>\n",
       "      <td>1</td>\n",
       "    </tr>\n",
       "    <tr>\n",
       "      <th>1873615</th>\n",
       "      <td>2015-07-31</td>\n",
       "      <td>104</td>\n",
       "      <td>315</td>\n",
       "      <td>1</td>\n",
       "    </tr>\n",
       "    <tr>\n",
       "      <th>1873616</th>\n",
       "      <td>2015-07-31</td>\n",
       "      <td>261</td>\n",
       "      <td>315</td>\n",
       "      <td>1</td>\n",
       "    </tr>\n",
       "    <tr>\n",
       "      <th>1873617</th>\n",
       "      <td>2015-07-31</td>\n",
       "      <td>295</td>\n",
       "      <td>315</td>\n",
       "      <td>1</td>\n",
       "    </tr>\n",
       "  </tbody>\n",
       "</table>\n",
       "<p>1873618 rows × 4 columns</p>\n",
       "</div>"
      ],
      "text/plain": [
       "              Date  StoreCode  ProductCode  SalesQuantity\n",
       "0       2015-01-01          8            9             -1\n",
       "1       2015-01-01        131            9              1\n",
       "2       2015-01-01        144            9              2\n",
       "3       2015-01-01        203            9              2\n",
       "4       2015-01-01        256            9              0\n",
       "...            ...        ...          ...            ...\n",
       "1873613 2015-07-30        292          315              0\n",
       "1873614 2015-07-31         12          315              1\n",
       "1873615 2015-07-31        104          315              1\n",
       "1873616 2015-07-31        261          315              1\n",
       "1873617 2015-07-31        295          315              1\n",
       "\n",
       "[1873618 rows x 4 columns]"
      ]
     },
     "execution_count": 77,
     "metadata": {},
     "output_type": "execute_result"
    }
   ],
   "source": [
    "data_a['Date'] = pd.to_datetime(data_a['Date'])\n",
    "data_a"
   ]
  },
  {
   "cell_type": "code",
   "execution_count": 78,
   "metadata": {},
   "outputs": [],
   "source": [
    "\n",
    "for index, row in data_p.iterrows():\n",
    "    start_date = row['StartDate']\n",
    "    end_date = row['EndDate']\n",
    "\n",
    "    if '/' in start_date:\n",
    "        parts = start_date.split('/')\n",
    "        if len(parts) == 3:\n",
    "            if int(parts[0]) > 12:\n",
    "                data_p.at[index, 'StartDate'] = pd.to_datetime(start_date, format='%d/%m/%Y')\n",
    "            else:\n",
    "                try:\n",
    "                    data_p.at[index, 'StartDate'] = pd.to_datetime(start_date, format='%m/%d/%Y')\n",
    "                except ValueError:\n",
    "                    data_p.at[index, 'StartDate'] = pd.to_datetime(start_date, format='%d/%m/%Y')\n",
    "    \n",
    "    if '/' in end_date:\n",
    "        parts = end_date.split('/')\n",
    "        if len(parts) == 3:\n",
    "            if int(parts[0]) > 12:\n",
    "                data_p.at[index, 'EndDate'] = pd.to_datetime(end_date, format='%d/%m/%Y')\n",
    "            else:\n",
    "                try:\n",
    "                    data_p.at[index, 'EndDate'] = pd.to_datetime(end_date, format='%m/%d/%Y')\n",
    "                except ValueError:\n",
    "                    data_p.at[index, 'EndDate'] = pd.to_datetime(end_date, format='%d/%m/%Y')\n",
    "\n",
    "\n",
    "mask = data_p['Period'] == 'Promo5'\n",
    "for col in ['StartDate', 'EndDate']:\n",
    "    data_p.loc[mask, col] = data_p.loc[mask, col].apply(\n",
    "        lambda ts: ts.replace(month=ts.day, day=ts.month)\n",
    "    )"
   ]
  },
  {
   "cell_type": "code",
   "execution_count": 79,
   "metadata": {},
   "outputs": [],
   "source": [
    "data_p['StartDate'] = pd.to_datetime(data_p['StartDate'])\n",
    "data_p['EndDate'] = pd.to_datetime(data_p['EndDate'])"
   ]
  },
  {
   "cell_type": "code",
   "execution_count": 80,
   "metadata": {},
   "outputs": [],
   "source": [
    "data_a['IsPromotion'] = False\n",
    "for _, row in data_p.iterrows():\n",
    "    mask = (data_a['Date'] >= row['StartDate']) & (data_a['Date'] <= row['EndDate'])\n",
    "    data_a.loc[mask, 'IsPromotion'] = True\n"
   ]
  },
  {
   "cell_type": "code",
   "execution_count": 81,
   "metadata": {},
   "outputs": [],
   "source": [
    "non_promo = data_a[data_a['IsPromotion'] == False].copy()\n",
    "non_promo['Week'] = non_promo['Date'].dt.isocalendar().week\n",
    "non_promo['Year'] = non_promo['Date'].dt.isocalendar().year"
   ]
  },
  {
   "cell_type": "code",
   "execution_count": 12,
   "metadata": {},
   "outputs": [
    {
     "data": {
      "text/html": [
       "<div>\n",
       "<style scoped>\n",
       "    .dataframe tbody tr th:only-of-type {\n",
       "        vertical-align: middle;\n",
       "    }\n",
       "\n",
       "    .dataframe tbody tr th {\n",
       "        vertical-align: top;\n",
       "    }\n",
       "\n",
       "    .dataframe thead th {\n",
       "        text-align: right;\n",
       "    }\n",
       "</style>\n",
       "<table border=\"1\" class=\"dataframe\">\n",
       "  <thead>\n",
       "    <tr style=\"text-align: right;\">\n",
       "      <th></th>\n",
       "      <th>ProductCode</th>\n",
       "      <th>Year</th>\n",
       "      <th>Week</th>\n",
       "      <th>SalesQuantity</th>\n",
       "    </tr>\n",
       "  </thead>\n",
       "  <tbody>\n",
       "    <tr>\n",
       "      <th>0</th>\n",
       "      <td>1</td>\n",
       "      <td>2015</td>\n",
       "      <td>1</td>\n",
       "      <td>203</td>\n",
       "    </tr>\n",
       "    <tr>\n",
       "      <th>1</th>\n",
       "      <td>1</td>\n",
       "      <td>2015</td>\n",
       "      <td>2</td>\n",
       "      <td>145</td>\n",
       "    </tr>\n",
       "    <tr>\n",
       "      <th>2</th>\n",
       "      <td>1</td>\n",
       "      <td>2015</td>\n",
       "      <td>24</td>\n",
       "      <td>186</td>\n",
       "    </tr>\n",
       "    <tr>\n",
       "      <th>3</th>\n",
       "      <td>1</td>\n",
       "      <td>2015</td>\n",
       "      <td>25</td>\n",
       "      <td>315</td>\n",
       "    </tr>\n",
       "    <tr>\n",
       "      <th>4</th>\n",
       "      <td>1</td>\n",
       "      <td>2015</td>\n",
       "      <td>27</td>\n",
       "      <td>294</td>\n",
       "    </tr>\n",
       "    <tr>\n",
       "      <th>...</th>\n",
       "      <td>...</td>\n",
       "      <td>...</td>\n",
       "      <td>...</td>\n",
       "      <td>...</td>\n",
       "    </tr>\n",
       "    <tr>\n",
       "      <th>2528</th>\n",
       "      <td>317</td>\n",
       "      <td>2015</td>\n",
       "      <td>27</td>\n",
       "      <td>11</td>\n",
       "    </tr>\n",
       "    <tr>\n",
       "      <th>2529</th>\n",
       "      <td>317</td>\n",
       "      <td>2015</td>\n",
       "      <td>28</td>\n",
       "      <td>16</td>\n",
       "    </tr>\n",
       "    <tr>\n",
       "      <th>2530</th>\n",
       "      <td>317</td>\n",
       "      <td>2015</td>\n",
       "      <td>29</td>\n",
       "      <td>14</td>\n",
       "    </tr>\n",
       "    <tr>\n",
       "      <th>2531</th>\n",
       "      <td>317</td>\n",
       "      <td>2015</td>\n",
       "      <td>30</td>\n",
       "      <td>14</td>\n",
       "    </tr>\n",
       "    <tr>\n",
       "      <th>2532</th>\n",
       "      <td>317</td>\n",
       "      <td>2015</td>\n",
       "      <td>31</td>\n",
       "      <td>6</td>\n",
       "    </tr>\n",
       "  </tbody>\n",
       "</table>\n",
       "<p>2533 rows × 4 columns</p>\n",
       "</div>"
      ],
      "text/plain": [
       "      ProductCode  Year  Week  SalesQuantity\n",
       "0               1  2015     1            203\n",
       "1               1  2015     2            145\n",
       "2               1  2015    24            186\n",
       "3               1  2015    25            315\n",
       "4               1  2015    27            294\n",
       "...           ...   ...   ...            ...\n",
       "2528          317  2015    27             11\n",
       "2529          317  2015    28             16\n",
       "2530          317  2015    29             14\n",
       "2531          317  2015    30             14\n",
       "2532          317  2015    31              6\n",
       "\n",
       "[2533 rows x 4 columns]"
      ]
     },
     "execution_count": 12,
     "metadata": {},
     "output_type": "execute_result"
    }
   ],
   "source": [
    "# 1. ProductCode\n",
    "product_weekly_sales = non_promo.groupby(['ProductCode', 'Year', 'Week'])['SalesQuantity'].sum().reset_index()\n",
    "product_avg_weekly = product_weekly_sales.groupby('ProductCode')['SalesQuantity'].mean().reset_index()\n",
    "product_avg_weekly.rename(columns={'SalesQuantity': 'AvgWeeklySales'}, inplace=True)\n",
    "product_weekly_sales\n"
   ]
  },
  {
   "cell_type": "code",
   "execution_count": 13,
   "metadata": {},
   "outputs": [
    {
     "data": {
      "text/html": [
       "<div>\n",
       "<style scoped>\n",
       "    .dataframe tbody tr th:only-of-type {\n",
       "        vertical-align: middle;\n",
       "    }\n",
       "\n",
       "    .dataframe tbody tr th {\n",
       "        vertical-align: top;\n",
       "    }\n",
       "\n",
       "    .dataframe thead th {\n",
       "        text-align: right;\n",
       "    }\n",
       "</style>\n",
       "<table border=\"1\" class=\"dataframe\">\n",
       "  <thead>\n",
       "    <tr style=\"text-align: right;\">\n",
       "      <th></th>\n",
       "      <th>StoreCode</th>\n",
       "      <th>AvgWeeklySales</th>\n",
       "    </tr>\n",
       "  </thead>\n",
       "  <tbody>\n",
       "    <tr>\n",
       "      <th>0</th>\n",
       "      <td>1</td>\n",
       "      <td>255.777778</td>\n",
       "    </tr>\n",
       "    <tr>\n",
       "      <th>1</th>\n",
       "      <td>2</td>\n",
       "      <td>935.333333</td>\n",
       "    </tr>\n",
       "    <tr>\n",
       "      <th>2</th>\n",
       "      <td>3</td>\n",
       "      <td>177.888889</td>\n",
       "    </tr>\n",
       "    <tr>\n",
       "      <th>3</th>\n",
       "      <td>4</td>\n",
       "      <td>294.555556</td>\n",
       "    </tr>\n",
       "    <tr>\n",
       "      <th>4</th>\n",
       "      <td>5</td>\n",
       "      <td>267.777778</td>\n",
       "    </tr>\n",
       "    <tr>\n",
       "      <th>...</th>\n",
       "      <td>...</td>\n",
       "      <td>...</td>\n",
       "    </tr>\n",
       "    <tr>\n",
       "      <th>332</th>\n",
       "      <td>336</td>\n",
       "      <td>229.444444</td>\n",
       "    </tr>\n",
       "    <tr>\n",
       "      <th>333</th>\n",
       "      <td>337</td>\n",
       "      <td>315.111111</td>\n",
       "    </tr>\n",
       "    <tr>\n",
       "      <th>334</th>\n",
       "      <td>338</td>\n",
       "      <td>291.444444</td>\n",
       "    </tr>\n",
       "    <tr>\n",
       "      <th>335</th>\n",
       "      <td>339</td>\n",
       "      <td>378.111111</td>\n",
       "    </tr>\n",
       "    <tr>\n",
       "      <th>336</th>\n",
       "      <td>340</td>\n",
       "      <td>444.666667</td>\n",
       "    </tr>\n",
       "  </tbody>\n",
       "</table>\n",
       "<p>337 rows × 2 columns</p>\n",
       "</div>"
      ],
      "text/plain": [
       "     StoreCode  AvgWeeklySales\n",
       "0            1      255.777778\n",
       "1            2      935.333333\n",
       "2            3      177.888889\n",
       "3            4      294.555556\n",
       "4            5      267.777778\n",
       "..         ...             ...\n",
       "332        336      229.444444\n",
       "333        337      315.111111\n",
       "334        338      291.444444\n",
       "335        339      378.111111\n",
       "336        340      444.666667\n",
       "\n",
       "[337 rows x 2 columns]"
      ]
     },
     "execution_count": 13,
     "metadata": {},
     "output_type": "execute_result"
    }
   ],
   "source": [
    "# 2. StoreCode\n",
    "store_weekly_sales = non_promo.groupby(['StoreCode', 'Year', 'Week'])['SalesQuantity'].sum().reset_index()\n",
    "store_avg_weekly = store_weekly_sales.groupby('StoreCode')['SalesQuantity'].mean().reset_index()\n",
    "store_avg_weekly.rename(columns={'SalesQuantity': 'AvgWeeklySales'}, inplace=True)\n",
    "store_avg_weekly"
   ]
  },
  {
   "cell_type": "code",
   "execution_count": 14,
   "metadata": {},
   "outputs": [
    {
     "data": {
      "image/png": "[encoded data removed]",
      "text/plain": [
       "<Figure size 1000x600 with 1 Axes>"
      ]
     },
     "metadata": {},
     "output_type": "display_data"
    },
    {
     "data": {
      "image/png": "[encoded data removed]",
      "text/plain": [
       "<Figure size 1000x600 with 1 Axes>"
      ]
     },
     "metadata": {},
     "output_type": "display_data"
    },
    {
     "name": "stdout",
     "output_type": "stream",
     "text": [
      "Product thresholds → Low/Med/High : 160.47777777777776 321.9555555555555 1129.3444444444444\n",
      "Store   thresholds → Low/Med/High: 181.7977777777778 259.7111111111111 493.4511111111112\n"
     ]
    }
   ],
   "source": [
    "import numpy as np\n",
    "import matplotlib.pyplot as plt\n",
    "\n",
    "def cutoffs(values, bins=50, med_frac=0.5, high_frac=0.05):\n",
    "    counts, bin_edges = np.histogram(values, bins=bins)\n",
    "    pdf = counts / counts.sum()\n",
    "    cdf = np.cumsum(pdf)\n",
    "\n",
    "    grad = np.diff(cdf)\n",
    "    max_idx = np.argmax(grad)\n",
    "    max_grad = grad[max_idx]\n",
    " \n",
    "    after_max = grad[max_idx+1:]\n",
    "    med_rel = np.where(after_max < max_grad * med_frac)[0]\n",
    "    med_idx = med_rel[0] + max_idx + 1 if med_rel.size > 0 else max_idx + 1\n",
    "    \n",
    "    after_med = grad[med_idx+1:]\n",
    "    high_rel = np.where(after_med < max_grad * high_frac)[0]\n",
    "    high_idx = high_rel[0] + med_idx + 1 if high_rel.size > 0 else len(grad)-1\n",
    "    \n",
    "    low_to = bin_edges[max_idx+1]\n",
    "    med_to = bin_edges[med_idx+1]\n",
    "    high_to = bin_edges[high_idx+1]\n",
    "    \n",
    "    return low_to, med_to, high_to\n",
    "\n",
    "def plot_with_cutoffs(data, column, title):\n",
    "    plt.figure(figsize=(10, 6))\n",
    "    vals = data[column].dropna().values\n",
    "    plt.hist(vals, bins=50, color='skyblue', edgecolor='black', alpha=0.7)\n",
    "    \n",
    "    low_end, med_end, high_end = cutoffs(vals, bins=50)\n",
    "    \n",
    "    plt.axvline(low_end, color='red', linestyle='--', label=f'Low→Medium @ {low_end:.1f}')\n",
    "    plt.axvline(med_end, color='orange', linestyle='--', label=f'Medium→High @ {med_end:.1f}')\n",
    "    plt.axvline(high_end, color='green', linestyle='--', label=f'High→Max @ {high_end:.1f}')\n",
    "    \n",
    "    plt.title(title)\n",
    "    plt.xlabel(column)\n",
    "    plt.ylabel(\"Frequency\")\n",
    "    plt.legend()\n",
    "    plt.grid(True)\n",
    "    plt.tight_layout()\n",
    "    plt.show()\n",
    "    \n",
    "    return low_end, med_end, high_end\n",
    "\n",
    "low_p, med_p, high_p = plot_with_cutoffs(product_avg_weekly, 'AvgWeeklySales', 'Product Avg Weekly Sales Distribution')\n",
    "low_s, med_s, high_s = plot_with_cutoffs(store_avg_weekly,   'AvgWeeklySales', 'Store Avg Weekly Sales Distribution')\n",
    "\n",
    "print(\"Product thresholds → Low/Med/High :\", low_p, med_p, high_p)\n",
    "print(\"Store   thresholds → Low/Med/High:\", low_s, med_s, high_s)\n"
   ]
  },
  {
   "cell_type": "code",
   "execution_count": 15,
   "metadata": {},
   "outputs": [],
   "source": [
    "import statsmodels.formula.api as smf\n",
    "\n",
    "#cluster labels for products\n",
    "def assign_cluster(x, low, med, high):\n",
    "    if x <= low:\n",
    "        return 'Low'\n",
    "    elif x <= med:\n",
    "        return 'Medium'\n",
    "    elif x <= high:\n",
    "        return 'High'\n",
    "    else:\n",
    "        return 'Max'\n",
    "\n",
    "product_avg_weekly['ProductCluster'] = product_avg_weekly['AvgWeeklySales'].apply(\n",
    "    lambda x: assign_cluster(x, low_p, med_p, high_p))\n",
    "\n",
    "store_avg_weekly['StoreCluster'] = store_avg_weekly['AvgWeeklySales'].apply(\n",
    "    lambda x: assign_cluster(x, low_s, med_s, high_s))\n",
    "\n",
    "\n",
    "data_effect = (\n",
    "    data_a\n",
    "    .merge(product_avg_weekly[['ProductCode', 'AvgWeeklySales', 'ProductCluster']],\n",
    "           on='ProductCode', how='left')\n",
    "    .merge(store_avg_weekly[['StoreCode', 'AvgWeeklySales', 'StoreCluster']],\n",
    "           on='StoreCode', how='left')\n",
    ")"
   ]
  },
  {
   "cell_type": "code",
   "execution_count": 16,
   "metadata": {},
   "outputs": [
    {
     "name": "stdout",
     "output_type": "stream",
     "text": [
      "                            OLS Regression Results                            \n",
      "==============================================================================\n",
      "Dep. Variable:          SalesQuantity   R-squared:                       0.109\n",
      "Model:                            OLS   Adj. R-squared:                  0.109\n",
      "Method:                 Least Squares   F-statistic:                 3.262e+04\n",
      "Date:                Fri, 18 Apr 2025   Prob (F-statistic):               0.00\n",
      "Time:                        02:19:32   Log-Likelihood:            -5.5771e+06\n",
      "No. Observations:             1873603   AIC:                         1.115e+07\n",
      "Df Residuals:                 1873595   BIC:                         1.115e+07\n",
      "Df Model:                           7                                         \n",
      "Covariance Type:            nonrobust                                         \n",
      "===================================================================================================================\n",
      "                                                      coef    std err          t      P>|t|      [0.025      0.975]\n",
      "-------------------------------------------------------------------------------------------------------------------\n",
      "Intercept                                           2.2082      0.013    166.471      0.000       2.182       2.234\n",
      "IsPromotion[T.True]                                 0.0888      0.015      5.917      0.000       0.059       0.118\n",
      "C(ProductCluster)[T.Low]                           -1.5055      0.021    -72.642      0.000      -1.546      -1.465\n",
      "C(ProductCluster)[T.Max]                            3.1142      0.022    138.673      0.000       3.070       3.158\n",
      "C(ProductCluster)[T.Medium]                        -0.8681      0.019    -45.495      0.000      -0.905      -0.831\n",
      "IsPromotion[T.True]:C(ProductCluster)[T.Low]        0.0253      0.023      1.086      0.277      -0.020       0.071\n",
      "IsPromotion[T.True]:C(ProductCluster)[T.Max]        0.4120      0.025     16.219      0.000       0.362       0.462\n",
      "IsPromotion[T.True]:C(ProductCluster)[T.Medium]    -0.0588      0.022     -2.721      0.007      -0.101      -0.016\n",
      "==============================================================================\n",
      "Omnibus:                  3056536.383   Durbin-Watson:                   1.788\n",
      "Prob(Omnibus):                  0.000   Jarque-Bera (JB):      48290369313.759\n",
      "Skew:                           9.668   Prob(JB):                         0.00\n",
      "Kurtosis:                     789.259   Cond. No.                         18.0\n",
      "==============================================================================\n",
      "\n",
      "Notes:\n",
      "[1] Standard Errors assume that the covariance matrix of the errors is correctly specified.\n"
     ]
    }
   ],
   "source": [
    "# 3)  Simple regression: promo effect by product clusters\n",
    "model_prod = smf.ols(\n",
    "    'SalesQuantity ~ IsPromotion * C(ProductCluster)',\n",
    "    data=data_effect\n",
    ").fit()\n",
    "print(model_prod.summary())\n"
   ]
  },
  {
   "cell_type": "code",
   "execution_count": 17,
   "metadata": {},
   "outputs": [
    {
     "name": "stdout",
     "output_type": "stream",
     "text": [
      "                            OLS Regression Results                            \n",
      "==============================================================================\n",
      "Dep. Variable:          SalesQuantity   R-squared:                       0.008\n",
      "Model:                            OLS   Adj. R-squared:                  0.008\n",
      "Method:                 Least Squares   F-statistic:                     2082.\n",
      "Date:                Fri, 18 Apr 2025   Prob (F-statistic):               0.00\n",
      "Time:                        02:19:37   Log-Likelihood:            -5.6775e+06\n",
      "No. Observations:             1873572   AIC:                         1.135e+07\n",
      "Df Residuals:                 1873564   BIC:                         1.136e+07\n",
      "Df Model:                           7                                         \n",
      "Covariance Type:            nonrobust                                         \n",
      "=================================================================================================================\n",
      "                                                    coef    std err          t      P>|t|      [0.025      0.975]\n",
      "-----------------------------------------------------------------------------------------------------------------\n",
      "Intercept                                         2.1926      0.014    161.906      0.000       2.166       2.219\n",
      "IsPromotion[T.True]                               0.1462      0.015      9.583      0.000       0.116       0.176\n",
      "C(StoreCluster)[T.Low]                           -0.5722      0.024    -24.008      0.000      -0.619      -0.526\n",
      "C(StoreCluster)[T.Max]                            0.6646      0.022     30.260      0.000       0.622       0.708\n",
      "C(StoreCluster)[T.Medium]                        -0.3027      0.020    -15.264      0.000      -0.342      -0.264\n",
      "IsPromotion[T.True]:C(StoreCluster)[T.Low]       -0.0549      0.027     -2.051      0.040      -0.107      -0.002\n",
      "IsPromotion[T.True]:C(StoreCluster)[T.Max]        0.0760      0.025      3.046      0.002       0.027       0.125\n",
      "IsPromotion[T.True]:C(StoreCluster)[T.Medium]    -0.0291      0.022     -1.302      0.193      -0.073       0.015\n",
      "==============================================================================\n",
      "Omnibus:                  2987816.466   Durbin-Watson:                   1.597\n",
      "Prob(Omnibus):                  0.000   Jarque-Bera (JB):      33118186080.410\n",
      "Skew:                           9.293   Prob(JB):                         0.00\n",
      "Kurtosis:                     654.069   Cond. No.                         17.6\n",
      "==============================================================================\n",
      "\n",
      "Notes:\n",
      "[1] Standard Errors assume that the covariance matrix of the errors is correctly specified.\n"
     ]
    }
   ],
   "source": [
    "# 4) promo effect by store clusters\n",
    "model_store = smf.ols(\n",
    "    'SalesQuantity ~ IsPromotion * C(StoreCluster)',\n",
    "    data=data_effect\n",
    ").fit()\n",
    "print(model_store.summary())\n"
   ]
  },
  {
   "cell_type": "code",
   "execution_count": 18,
   "metadata": {},
   "outputs": [
    {
     "name": "stdout",
     "output_type": "stream",
     "text": [
      "                            OLS Regression Results                            \n",
      "==============================================================================\n",
      "Dep. Variable:          SalesQuantity   R-squared:                       0.116\n",
      "Model:                            OLS   Adj. R-squared:                  0.116\n",
      "Method:                 Least Squares   F-statistic:                 1.895e+04\n",
      "Date:                Fri, 18 Apr 2025   Prob (F-statistic):               0.00\n",
      "Time:                        02:19:49   Log-Likelihood:            -5.5690e+06\n",
      "No. Observations:             1873557   AIC:                         1.114e+07\n",
      "Df Residuals:                 1873543   BIC:                         1.114e+07\n",
      "Df Model:                          13                                         \n",
      "Covariance Type:            nonrobust                                         \n",
      "===================================================================================================================\n",
      "                                                      coef    std err          t      P>|t|      [0.025      0.975]\n",
      "-------------------------------------------------------------------------------------------------------------------\n",
      "Intercept                                           2.2299      0.017    133.090      0.000       2.197       2.263\n",
      "IsPromotion[T.True]                                 0.0978      0.019      5.173      0.000       0.061       0.135\n",
      "C(ProductCluster)[T.Low]                           -1.4803      0.021    -71.706      0.000      -1.521      -1.440\n",
      "C(ProductCluster)[T.Max]                            3.1316      0.022    140.026      0.000       3.088       3.175\n",
      "C(ProductCluster)[T.Medium]                        -0.8611      0.019    -45.320      0.000      -0.898      -0.824\n",
      "C(StoreCluster)[T.Low]                             -0.5243      0.022    -23.301      0.000      -0.568      -0.480\n",
      "C(StoreCluster)[T.Max]                              0.6870      0.021     33.139      0.000       0.646       0.728\n",
      "C(StoreCluster)[T.Medium]                          -0.3055      0.019    -16.322      0.000      -0.342      -0.269\n",
      "IsPromotion[T.True]:C(ProductCluster)[T.Low]        0.0391      0.023      1.686      0.092      -0.006       0.085\n",
      "IsPromotion[T.True]:C(ProductCluster)[T.Max]        0.4216      0.025     16.666      0.000       0.372       0.471\n",
      "IsPromotion[T.True]:C(ProductCluster)[T.Medium]    -0.0551      0.022     -2.559      0.010      -0.097      -0.013\n",
      "IsPromotion[T.True]:C(StoreCluster)[T.Low]         -0.0447      0.025     -1.767      0.077      -0.094       0.005\n",
      "IsPromotion[T.True]:C(StoreCluster)[T.Max]          0.0885      0.024      3.757      0.000       0.042       0.135\n",
      "IsPromotion[T.True]:C(StoreCluster)[T.Medium]      -0.0227      0.021     -1.076      0.282      -0.064       0.019\n",
      "==============================================================================\n",
      "Omnibus:                  3059246.627   Durbin-Watson:                   1.791\n",
      "Prob(Omnibus):                  0.000   Jarque-Bera (JB):      49460598588.833\n",
      "Skew:                           9.681   Prob(JB):                         0.00\n",
      "Kurtosis:                     798.744   Cond. No.                         20.1\n",
      "==============================================================================\n",
      "\n",
      "Notes:\n",
      "[1] Standard Errors assume that the covariance matrix of the errors is correctly specified.\n"
     ]
    }
   ],
   "source": [
    "# 5)Product+Store Clusters Together\n",
    "model_both = smf.ols(\n",
    "    'SalesQuantity ~ IsPromotion * C(ProductCluster) + IsPromotion * C(StoreCluster)',\n",
    "    data=data_effect\n",
    ").fit()\n",
    "print(model_both.summary())"
   ]
  },
  {
   "cell_type": "code",
   "execution_count": 19,
   "metadata": {},
   "outputs": [],
   "source": [
    "model_both = smf.ols(\n",
    "    'SalesQuantity ~ IsPromotion * C(ProductCluster) + IsPromotion * C(StoreCluster)',\n",
    "    data=data_effect\n",
    ").fit()\n"
   ]
  },
  {
   "cell_type": "code",
   "execution_count": 50,
   "metadata": {},
   "outputs": [],
   "source": [
    "data_b['Date'] = pd.to_datetime(data_b['Date'])"
   ]
  },
  {
   "cell_type": "code",
   "execution_count": null,
   "metadata": {},
   "outputs": [],
   "source": [
    "promo5 = data_p.loc[data_p['Period']=='Promo5'].iloc[0]\n",
    "promo5_start, promo5_end = promo5['StartDate'], promo5['EndDate']\n",
    "\n",
    "promo5_b = data_b[(data_b['Date'] >= promo5_start) & (data_b['Date'] <= promo5_end)].copy()\n"
   ]
  },
  {
   "cell_type": "code",
   "execution_count": 52,
   "metadata": {},
   "outputs": [],
   "source": [
    "promo5_b = promo5_b.merge(product_avg_weekly[['ProductCode', 'AvgWeeklySales', 'ProductCluster']],\n",
    "                          on='ProductCode', how='left')\n",
    "promo5_b = promo5_b.merge(store_avg_weekly[['StoreCode', 'AvgWeeklySales', 'StoreCluster']],\n",
    "                          on='StoreCode', how='left')\n",
    "\n",
    "promo5_b['IsPromotion'] = True\n"
   ]
  },
  {
   "cell_type": "code",
   "execution_count": null,
   "metadata": {},
   "outputs": [
    {
     "name": "stdout",
     "output_type": "stream",
     "text": [
      "Comparison of Predicted vs Actual Sales for Promotion 5:\n",
      "       StoreCode  ProductCode  SalesQuantity  Predicted  Residual\n",
      "0              1           25              1   1.083230 -0.083230\n",
      "1              1           37              1   0.558311  0.441689\n",
      "2              1           38              1   0.558311  0.441689\n",
      "3              1           46              1   1.083230 -0.083230\n",
      "4              1           71              2   1.083230  0.916770\n",
      "...          ...          ...            ...        ...       ...\n",
      "41470        340          224              1   1.411507 -0.411507\n",
      "41471        340          232              1   2.327730 -1.327730\n",
      "41472        340          288              2   2.327730 -0.327730\n",
      "41473        340          305              1   1.411507 -0.411507\n",
      "41474        340          313              2   2.327730 -0.327730\n",
      "\n",
      "[41475 rows x 5 columns]\n"
     ]
    }
   ],
   "source": [
    "\n",
    "promo5_b['Predicted'] = model_both.predict(promo5_b)\n",
    "\n",
    "promo5_b['Residual'] = promo5_b['SalesQuantity'] - promo5_b['Predicted']\n",
    "\n",
    "print(\"Comparison of Predicted vs Actual Sales for Promotion 5:\")\n",
    "print(promo5_b[['StoreCode', 'ProductCode', 'SalesQuantity', 'Predicted', 'Residual']])\n"
   ]
  },
  {
   "cell_type": "code",
   "execution_count": 82,
   "metadata": {},
   "outputs": [
    {
     "name": "stdout",
     "output_type": "stream",
     "text": [
      "\n",
      "Goodness of Fit Metrics for Promotion 5:\n",
      "MAE: 2.5465\n",
      "MSE: 31.5101\n",
      "RMSE: 5.6134\n"
     ]
    }
   ],
   "source": [
    "def calculate_metrics(actual, predicted):\n",
    "    mae = np.mean(np.abs(actual - predicted))  \n",
    "    mse = np.mean((actual - predicted) ** 2)  \n",
    "    rmse = np.sqrt(mse)  \n",
    "    mape = np.mean(np.abs((actual - predicted) / actual)) * 100\n",
    "    return {'MAE': mae, 'MSE': mse, 'RMSE': rmse}\n",
    "\n",
    "metrics_promo5 = calculate_metrics(promo5_b['SalesQuantity'], promo5_b['Predicted'])\n",
    "\n",
    "print(\"\\nGoodness of Fit Metrics for Promotion 5:\")\n",
    "for k, v in metrics_promo5.items():\n",
    "    print(f\"{k}: {v:.4f}\")"
   ]
  },
  {
   "cell_type": "code",
   "execution_count": 57,
   "metadata": {},
   "outputs": [],
   "source": [
    "from statsmodels.tsa.holtwinters import ExponentialSmoothing"
   ]
  },
  {
   "cell_type": "code",
   "execution_count": null,
   "metadata": {},
   "outputs": [
    {
     "name": "stdout",
     "output_type": "stream",
     "text": [
      "{'smoothing_level': 1.4901161193847656e-08, 'smoothing_trend': 1.4876633913107501e-08, 'smoothing_seasonal': 4.327534288743558e-17, 'damping_trend': nan, 'initial_level': 2.2414700451789553, 'initial_trend': 0.9928846222675314, 'initial_seasons': array([0.98639902, 1.05750226, 0.98051919, 0.97242785]), 'use_boxcox': False, 'lamda': None, 'remove_bias': False}\n"
     ]
    }
   ],
   "source": [
    "#holt winters\n",
    "weekly_ts = data_b['SalesQuantity'].resample('W').mean()\n",
    "\n",
    "hw = ExponentialSmoothing(\n",
    "    weekly_ts,\n",
    "    trend='mul',\n",
    "    seasonal='mul',\n",
    "    seasonal_periods=4  \n",
    ").fit()\n",
    "\n",
    "fitted = hw.fittedvalues\n",
    "forecast = hw.forecast(steps=8)\n",
    "print(hw.params)"
   ]
  },
  {
   "cell_type": "code",
   "execution_count": 83,
   "metadata": {},
   "outputs": [
    {
     "data": {
      "image/png": "[encoded data removed]",
      "text/plain": [
       "<Figure size 640x480 with 1 Axes>"
      ]
     },
     "metadata": {},
     "output_type": "display_data"
    }
   ],
   "source": [
    "\n",
    "plt.figure()\n",
    "weekly_ts.plot(label='Real Weekly Data', legend=True)\n",
    "fitted.plot(label='Fitted', legend=True)\n",
    "forecast.plot(label='Forecast', legend=True)\n",
    "plt.title('Multiplicative Holt–Winters — Weekly Avg (Promo5)')\n",
    "plt.show()"
   ]
  },
  {
   "cell_type": "code",
   "execution_count": 84,
   "metadata": {},
   "outputs": [
    {
     "name": "stdout",
     "output_type": "stream",
     "text": [
      "\n",
      "Goodness of Fit Metrics for Weekly‐Aggregated Promo5:\n",
      "MAE: 0.1031\n",
      "MSE: 0.0181\n",
      "RMSE: 0.1347\n"
     ]
    }
   ],
   "source": [
    "\n",
    "def calculate_metrics(actual, predicted):\n",
    "    mae  = np.mean(np.abs(actual - predicted))       \n",
    "    mse  = np.mean((actual - predicted) ** 2)         \n",
    "    rmse = np.sqrt(mse)                                 \n",
    "    mape = np.mean(np.abs((actual - predicted) / actual)) * 100 \n",
    "    return {'MAE': mae, 'MSE': mse, 'RMSE': rmse}\n",
    "\n",
    "\n",
    "metrics_weekly = calculate_metrics(weekly_ts, fitted)\n",
    "\n",
    "print(\"\\nGoodness of Fit Metrics for Weekly‐Aggregated Promo5:\")\n",
    "for name, val in metrics_weekly.items():\n",
    "    print(f\"{name}: {val:.4f}\")"
   ]
  },
  {
   "cell_type": "code",
   "execution_count": null,
   "metadata": {},
   "outputs": [],
   "source": []
  },
  {
   "cell_type": "code",
   "execution_count": null,
   "metadata": {},
   "outputs": [],
   "source": []
  },
  {
   "cell_type": "code",
   "execution_count": null,
   "metadata": {},
   "outputs": [],
   "source": []
  },
  {
   "cell_type": "code",
   "execution_count": null,
   "metadata": {},
   "outputs": [],
   "source": []
  }
 ],
 "metadata": {
  "kernelspec": {
   "display_name": "base",
   "language": "python",
   "name": "python3"
  },
  "language_info": {
   "codemirror_mode": {
    "name": "ipython",
    "version": 3
   },
   "file_extension": ".py",
   "mimetype": "text/x-python",
   "name": "python",
   "nbconvert_exporter": "python",
   "pygments_lexer": "ipython3",
   "version": "3.12.2"
  }
 },
 "nbformat": 4,
 "nbformat_minor": 2
}
